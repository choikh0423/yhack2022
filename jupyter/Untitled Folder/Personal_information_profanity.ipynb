{
 "cells": [
  {
   "cell_type": "code",
   "execution_count": 22,
   "id": "20646e3f",
   "metadata": {},
   "outputs": [
    {
     "name": "stdout",
     "output_type": "stream",
     "text": [
      "Requirement already satisfied: nltk in c:\\users\\rockr\\anaconda3\\lib\\site-packages (3.6.5)\n",
      "Requirement already satisfied: click in c:\\users\\rockr\\anaconda3\\lib\\site-packages (from nltk) (8.0.3)\n",
      "Requirement already satisfied: joblib in c:\\users\\rockr\\anaconda3\\lib\\site-packages (from nltk) (1.1.0)\n",
      "Requirement already satisfied: regex>=2021.8.3 in c:\\users\\rockr\\anaconda3\\lib\\site-packages (from nltk) (2021.8.3)\n",
      "Requirement already satisfied: tqdm in c:\\users\\rockr\\anaconda3\\lib\\site-packages (from nltk) (4.62.3)\n",
      "Requirement already satisfied: colorama in c:\\users\\rockr\\anaconda3\\lib\\site-packages (from click->nltk) (0.4.4)\n",
      "Requirement already satisfied: better-profanity in c:\\users\\rockr\\anaconda3\\lib\\site-packages (0.7.0)\n"
     ]
    },
    {
     "name": "stderr",
     "output_type": "stream",
     "text": [
      "[nltk_data] Downloading package punkt to\n",
      "[nltk_data]     C:\\Users\\rockr\\AppData\\Roaming\\nltk_data...\n",
      "[nltk_data]   Package punkt is already up-to-date!\n"
     ]
    }
   ],
   "source": [
    "# installing requirements\n",
    "!pip install nltk\n",
    "!pip install better-profanity\n",
    "import nltk\n",
    "nltk.download('punkt')\n",
    "from nltk.tokenize import word_tokenize\n",
    "from better_profanity import profanity\n",
    "import pandas as pd\n",
    "\n",
    "# loading train data\n",
    "review_df = pd.read_csv(r'C:\\code\\Anvil\\Yhack\\review_data.txt', header = 0, sep = \"\\t\", quoting = 3)"
   ]
  },
  {
   "cell_type": "code",
   "execution_count": 23,
   "id": "1cae5f6e",
   "metadata": {},
   "outputs": [],
   "source": [
    "# making personal information example for testing\n",
    "post_text=\"2022.04.09\"\n",
    "address_text = \"11, Naesonjungang-ro, Uiwang-si, Gyeonggi-do, Republic of Korea\"\n",
    "number_text=\"010-xxxx-xxxx\"\n",
    "personal_inform=[post_text, address_text, number_text]\n",
    "\n"
   ]
  },
  {
   "cell_type": "code",
   "execution_count": 24,
   "id": "d1aebfc9",
   "metadata": {},
   "outputs": [
    {
     "name": "stdout",
     "output_type": "stream",
     "text": [
      "['2022.04.09', '11, Naesonjungang-ro, Uiwang-si, Gyeonggi-do, Republic of Korea', '010-xxxx-xxxx']\n"
     ]
    }
   ],
   "source": [
    "SNS_activity=[\"2022.04.12\",\"facebook\",\"post\", \" my name is KYUHWAN CHOI.My number is 010-xxxx-xxxx and arse Today is a really annoying and angry day.. and i hate !\"]\n",
    "print(personal_inform)\n"
   ]
  },
  {
   "cell_type": "code",
   "execution_count": 25,
   "id": "772e92dd",
   "metadata": {},
   "outputs": [],
   "source": [
    "# porfanity and personal information filter\n",
    "contents_list=[]\n",
    "filter_list=[]\n",
    "contents_list=word_tokenize(SNS_activity[-1])\n",
    "\n",
    "# profanity_counter = 0\n",
    "# personal_information_counter = 0\n",
    "\n",
    "def checking(words_list):\n",
    "    profanity_counter = 0\n",
    "    personal_information_counter = 0\n",
    "\n",
    "    for element in contents_list:\n",
    "        if profanity.contains_profanity(element) == True:\n",
    "            profanity_counter += 1\n",
    "        if element in contents_list:\n",
    "            personal_information_counter += 1\n",
    "    if profanity_counter > 0 :\n",
    "        filter_list.append(\"profanity\")\n",
    "\n",
    "    if personal_information_counter > 0 :\n",
    "        filter_list.append(\"personal information\")\n",
    "    \n",
    "\n"
   ]
  },
  {
   "cell_type": "code",
   "execution_count": 26,
   "id": "5000c787",
   "metadata": {},
   "outputs": [],
   "source": [
    "checking(contents_list)"
   ]
  },
  {
   "cell_type": "code",
   "execution_count": 27,
   "id": "b6efbdb8",
   "metadata": {},
   "outputs": [],
   "source": [
    "# Bad mood filter\n",
    "import re\n",
    "\n",
    "# <br> html 태그는 replace 함수로 공백으로 변환\n",
    "review_df['review'] = review_df['review'].str.replace('<br />', ' ')\n",
    "\n",
    "# 파이썬의 re 모듈을 이용해 영어 문자열이 아닌 문자는 모두 공백으로 변환\n",
    "review_df['review'] = review_df['review'].apply(lambda x : re.sub(\"[^a-zA-Z]\", \" \", x))\n",
    "\n",
    "cM_list=[]\n",
    "cM_list.append(SNS_activity[-1])"
   ]
  },
  {
   "cell_type": "code",
   "execution_count": 28,
   "id": "656e2206",
   "metadata": {},
   "outputs": [
    {
     "data": {
      "text/plain": [
       "((20040, 1), (5011, 1))"
      ]
     },
     "execution_count": 28,
     "metadata": {},
     "output_type": "execute_result"
    }
   ],
   "source": [
    "# 결정 값 클래스인 sentiment 칼럼을 별도로 추출\n",
    "from sklearn.model_selection import train_test_split\n",
    "\n",
    "\n",
    "# 학습 데이터에서 sentiment만 추출\n",
    "class_df = review_df['sentiment']\n",
    "# 학습 데이터에서 review만 추출\n",
    "feature_df = review_df.drop(['id','sentiment'], axis=1, inplace=False)\n",
    "\n",
    "X_train, X_test, y_train, y_test= train_test_split(feature_df, class_df, test_size=0.2, random_state=156,shuffle=True)\n",
    "X_train.shape, X_test.shape\n",
    "\n"
   ]
  },
  {
   "cell_type": "code",
   "execution_count": 29,
   "id": "0256be11",
   "metadata": {},
   "outputs": [
    {
     "name": "stdout",
     "output_type": "stream",
     "text": [
      "예측 정확도는 0.8773\n"
     ]
    }
   ],
   "source": [
    "from sklearn.feature_extraction.text import CountVectorizer, TfidfVectorizer\n",
    "from sklearn.pipeline import Pipeline\n",
    "from sklearn.linear_model import LogisticRegression\n",
    "from sklearn.metrics import accuracy_score, roc_auc_score\n",
    "\n",
    "# 스톱 워드는 English, filtering, ngram은 (1,2)로 설정해 CountVectorization수행. \n",
    "# LogisticRegression의 C는 10으로 설정. \n",
    "pipeline = Pipeline([\n",
    "    ('cnt_vect', CountVectorizer(stop_words='english', ngram_range=(1,2) )),\n",
    "    ('lr_clf', LogisticRegression(C=10, max_iter = 500))]) # C 값이 작으면 훈련을 덜 복잡 ( 강한 규제)\n",
    "\n",
    "# Pipeline 객체를 이용하여 fit(), predict()로 학습/예측 수행. predict_proba()는 roc_auc때문에 수행.  \n",
    "pipeline.fit(X_train['review'], y_train)\n",
    "pred =pipeline.predict(X_test['review'])\n",
    "pred_probs = pipeline.predict_proba(X_test['review'])[:,1]\n",
    "\n",
    "print('예측 정확도는 {0:.4f}'.format(accuracy_score(y_test ,pred)))"
   ]
  },
  {
   "cell_type": "code",
   "execution_count": 1,
   "id": "9f4cb17a",
   "metadata": {},
   "outputs": [
    {
     "ename": "NameError",
     "evalue": "name 'pipeline' is not defined",
     "output_type": "error",
     "traceback": [
      "\u001b[1;31m---------------------------------------------------------------------------\u001b[0m",
      "\u001b[1;31mNameError\u001b[0m                                 Traceback (most recent call last)",
      "\u001b[1;32m<ipython-input-1-470617398a38>\u001b[0m in \u001b[0;36m<module>\u001b[1;34m\u001b[0m\n\u001b[0;32m      1\u001b[0m \u001b[1;31m#pipeline.fit(X_train['review'], y_train)\u001b[0m\u001b[1;33m\u001b[0m\u001b[1;33m\u001b[0m\u001b[1;33m\u001b[0m\u001b[0m\n\u001b[1;32m----> 2\u001b[1;33m \u001b[0mpred\u001b[0m \u001b[1;33m=\u001b[0m\u001b[0mpipeline\u001b[0m\u001b[1;33m.\u001b[0m\u001b[0mpredict\u001b[0m\u001b[1;33m(\u001b[0m\u001b[0mcM_list\u001b[0m\u001b[1;33m)\u001b[0m\u001b[1;33m\u001b[0m\u001b[1;33m\u001b[0m\u001b[0m\n\u001b[0m\u001b[0;32m      3\u001b[0m \u001b[1;32mif\u001b[0m \u001b[0mpred\u001b[0m \u001b[1;33m==\u001b[0m \u001b[1;33m[\u001b[0m\u001b[1;36m0\u001b[0m\u001b[1;33m]\u001b[0m\u001b[1;33m:\u001b[0m\u001b[1;33m\u001b[0m\u001b[1;33m\u001b[0m\u001b[0m\n\u001b[0;32m      4\u001b[0m     \u001b[0mfilter_list\u001b[0m\u001b[1;33m.\u001b[0m\u001b[0mappend\u001b[0m\u001b[1;33m(\u001b[0m\u001b[1;34m\"bad mood\"\u001b[0m\u001b[1;33m)\u001b[0m\u001b[1;33m\u001b[0m\u001b[1;33m\u001b[0m\u001b[0m\n\u001b[0;32m      5\u001b[0m \u001b[1;31m#해당 메소드를 실행하면서 학습한 데이터를 기반으로 주어진 Feature가 어떤 확률로 Label로 분류되었는지 계산하여 반환\u001b[0m\u001b[1;33m\u001b[0m\u001b[1;33m\u001b[0m\u001b[1;33m\u001b[0m\u001b[0m\n",
      "\u001b[1;31mNameError\u001b[0m: name 'pipeline' is not defined"
     ]
    }
   ],
   "source": [
    "#pipeline.fit(X_train['review'], y_train)\n",
    "pred =pipeline.predict(cM_list)\n",
    "if pred == [0]:\n",
    "    filter_list.append(\"bad mood\")\n",
    "#해당 메소드를 실행하면서 학습한 데이터를 기반으로 주어진 Feature가 어떤 확률로 Label로 분류되었는지 계산하여 반환\n",
    "pipeline.predict_proba(cM_list)"
   ]
  },
  {
   "cell_type": "code",
   "execution_count": 31,
   "id": "fca78d26",
   "metadata": {},
   "outputs": [],
   "source": [
    "# 어떤 확률로 선택했는지 찾는 코드 \n",
    "percentage1=pipeline.predict_proba(cM_list)[:,0]\n",
    "percentage2=pipeline.predict_proba(cM_list)[:,1]\n",
    "\n",
    "def ref(x,y):\n",
    "    return x if x>=y else y"
   ]
  },
  {
   "cell_type": "code",
   "execution_count": 32,
   "id": "d1b1a5bc",
   "metadata": {},
   "outputs": [
    {
     "name": "stdout",
     "output_type": "stream",
     "text": [
      "test_sentance:   my name is KYUHWAN CHOI.My number is 010-xxxx-xxxx and arse Today is a really annoying and angry day.. and i hate ! \n",
      " sentiment : [0] \n",
      " percentage: [80.42435397] [%]\n"
     ]
    }
   ],
   "source": [
    "print(\"test_sentance: \", SNS_activity[-1],'\\n',\n",
    "     \"sentiment :\", pred, \"\\n\",\n",
    "      \"percentage:\", ref(percentage1,percentage2)*100,\"[%]\"\n",
    "     )\n"
   ]
  },
  {
   "cell_type": "code",
   "execution_count": 33,
   "id": "cf548230",
   "metadata": {},
   "outputs": [
    {
     "data": {
      "text/plain": [
       "['profanity', 'personal information', 'bad mood']"
      ]
     },
     "execution_count": 33,
     "metadata": {},
     "output_type": "execute_result"
    }
   ],
   "source": [
    "filter_list"
   ]
  },
  {
   "cell_type": "code",
   "execution_count": null,
   "id": "3ffc7195",
   "metadata": {},
   "outputs": [],
   "source": []
  }
 ],
 "metadata": {
  "kernelspec": {
   "display_name": "Python 3",
   "language": "python",
   "name": "python3"
  },
  "language_info": {
   "codemirror_mode": {
    "name": "ipython",
    "version": 3
   },
   "file_extension": ".py",
   "mimetype": "text/x-python",
   "name": "python",
   "nbconvert_exporter": "python",
   "pygments_lexer": "ipython3",
   "version": "3.8.8"
  }
 },
 "nbformat": 4,
 "nbformat_minor": 5
}
